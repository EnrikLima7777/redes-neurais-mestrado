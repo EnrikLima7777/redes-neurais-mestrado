{
  "nbformat": 4,
  "nbformat_minor": 0,
  "metadata": {
    "colab": {
      "provenance": [],
      "gpuType": "T4"
    },
    "kernelspec": {
      "name": "python3",
      "display_name": "Python 3"
    },
    "language_info": {
      "name": "python"
    },
    "accelerator": "GPU"
  },
  "cells": [
    {
      "cell_type": "markdown",
      "source": [
        "1. Configuração Inicial no Colab"
      ],
      "metadata": {
        "id": "TO9efRqJyxFc"
      }
    },
    {
      "cell_type": "code",
      "source": [
        "!pip install scikit-learn pandas numpy matplotlib tensorflow shap\n",
        "\n",
        "import pandas as pd\n",
        "import numpy as np\n",
        "from sklearn.preprocessing import StandardScaler\n",
        "from sklearn.model_selection import train_test_split\n",
        "import tensorflow as tf\n",
        "from tensorflow.keras import layers, models, callbacks\n",
        "from tensorflow.keras.layers import Flatten\n",
        "import matplotlib.pyplot as plt\n",
        "\n",
        "# Verificar GPU\n",
        "print(\"GPU disponível:\", tf.config.list_physical_devices('GPU'))"
      ],
      "metadata": {
        "colab": {
          "base_uri": "https://localhost:8080/"
        },
        "collapsed": true,
        "id": "s7kTBdUEyysq",
        "outputId": "5059ee08-be52-4cc8-831b-a935b5ded57f"
      },
      "execution_count": 36,
      "outputs": [
        {
          "output_type": "stream",
          "name": "stdout",
          "text": [
            "Requirement already satisfied: scikit-learn in /usr/local/lib/python3.11/dist-packages (1.6.1)\n",
            "Requirement already satisfied: pandas in /usr/local/lib/python3.11/dist-packages (2.2.2)\n",
            "Requirement already satisfied: numpy in /usr/local/lib/python3.11/dist-packages (1.26.4)\n",
            "Requirement already satisfied: matplotlib in /usr/local/lib/python3.11/dist-packages (3.10.0)\n",
            "Requirement already satisfied: tensorflow in /usr/local/lib/python3.11/dist-packages (2.18.0)\n",
            "Requirement already satisfied: shap in /usr/local/lib/python3.11/dist-packages (0.46.0)\n",
            "Requirement already satisfied: scipy>=1.6.0 in /usr/local/lib/python3.11/dist-packages (from scikit-learn) (1.14.1)\n",
            "Requirement already satisfied: joblib>=1.2.0 in /usr/local/lib/python3.11/dist-packages (from scikit-learn) (1.4.2)\n",
            "Requirement already satisfied: threadpoolctl>=3.1.0 in /usr/local/lib/python3.11/dist-packages (from scikit-learn) (3.5.0)\n",
            "Requirement already satisfied: python-dateutil>=2.8.2 in /usr/local/lib/python3.11/dist-packages (from pandas) (2.8.2)\n",
            "Requirement already satisfied: pytz>=2020.1 in /usr/local/lib/python3.11/dist-packages (from pandas) (2025.1)\n",
            "Requirement already satisfied: tzdata>=2022.7 in /usr/local/lib/python3.11/dist-packages (from pandas) (2025.1)\n",
            "Requirement already satisfied: contourpy>=1.0.1 in /usr/local/lib/python3.11/dist-packages (from matplotlib) (1.3.1)\n",
            "Requirement already satisfied: cycler>=0.10 in /usr/local/lib/python3.11/dist-packages (from matplotlib) (0.12.1)\n",
            "Requirement already satisfied: fonttools>=4.22.0 in /usr/local/lib/python3.11/dist-packages (from matplotlib) (4.56.0)\n",
            "Requirement already satisfied: kiwisolver>=1.3.1 in /usr/local/lib/python3.11/dist-packages (from matplotlib) (1.4.8)\n",
            "Requirement already satisfied: packaging>=20.0 in /usr/local/lib/python3.11/dist-packages (from matplotlib) (24.2)\n",
            "Requirement already satisfied: pillow>=8 in /usr/local/lib/python3.11/dist-packages (from matplotlib) (11.1.0)\n",
            "Requirement already satisfied: pyparsing>=2.3.1 in /usr/local/lib/python3.11/dist-packages (from matplotlib) (3.2.1)\n",
            "Requirement already satisfied: absl-py>=1.0.0 in /usr/local/lib/python3.11/dist-packages (from tensorflow) (1.4.0)\n",
            "Requirement already satisfied: astunparse>=1.6.0 in /usr/local/lib/python3.11/dist-packages (from tensorflow) (1.6.3)\n",
            "Requirement already satisfied: flatbuffers>=24.3.25 in /usr/local/lib/python3.11/dist-packages (from tensorflow) (25.2.10)\n",
            "Requirement already satisfied: gast!=0.5.0,!=0.5.1,!=0.5.2,>=0.2.1 in /usr/local/lib/python3.11/dist-packages (from tensorflow) (0.6.0)\n",
            "Requirement already satisfied: google-pasta>=0.1.1 in /usr/local/lib/python3.11/dist-packages (from tensorflow) (0.2.0)\n",
            "Requirement already satisfied: libclang>=13.0.0 in /usr/local/lib/python3.11/dist-packages (from tensorflow) (18.1.1)\n",
            "Requirement already satisfied: opt-einsum>=2.3.2 in /usr/local/lib/python3.11/dist-packages (from tensorflow) (3.4.0)\n",
            "Requirement already satisfied: protobuf!=4.21.0,!=4.21.1,!=4.21.2,!=4.21.3,!=4.21.4,!=4.21.5,<6.0.0dev,>=3.20.3 in /usr/local/lib/python3.11/dist-packages (from tensorflow) (4.25.6)\n",
            "Requirement already satisfied: requests<3,>=2.21.0 in /usr/local/lib/python3.11/dist-packages (from tensorflow) (2.32.3)\n",
            "Requirement already satisfied: setuptools in /usr/local/lib/python3.11/dist-packages (from tensorflow) (75.1.0)\n",
            "Requirement already satisfied: six>=1.12.0 in /usr/local/lib/python3.11/dist-packages (from tensorflow) (1.17.0)\n",
            "Requirement already satisfied: termcolor>=1.1.0 in /usr/local/lib/python3.11/dist-packages (from tensorflow) (2.5.0)\n",
            "Requirement already satisfied: typing-extensions>=3.6.6 in /usr/local/lib/python3.11/dist-packages (from tensorflow) (4.12.2)\n",
            "Requirement already satisfied: wrapt>=1.11.0 in /usr/local/lib/python3.11/dist-packages (from tensorflow) (1.17.2)\n",
            "Requirement already satisfied: grpcio<2.0,>=1.24.3 in /usr/local/lib/python3.11/dist-packages (from tensorflow) (1.71.0)\n",
            "Requirement already satisfied: tensorboard<2.19,>=2.18 in /usr/local/lib/python3.11/dist-packages (from tensorflow) (2.18.0)\n",
            "Requirement already satisfied: keras>=3.5.0 in /usr/local/lib/python3.11/dist-packages (from tensorflow) (3.8.0)\n",
            "Requirement already satisfied: h5py>=3.11.0 in /usr/local/lib/python3.11/dist-packages (from tensorflow) (3.12.1)\n",
            "Requirement already satisfied: ml-dtypes<0.5.0,>=0.4.0 in /usr/local/lib/python3.11/dist-packages (from tensorflow) (0.4.1)\n",
            "Requirement already satisfied: tensorflow-io-gcs-filesystem>=0.23.1 in /usr/local/lib/python3.11/dist-packages (from tensorflow) (0.37.1)\n",
            "Requirement already satisfied: tqdm>=4.27.0 in /usr/local/lib/python3.11/dist-packages (from shap) (4.67.1)\n",
            "Requirement already satisfied: slicer==0.0.8 in /usr/local/lib/python3.11/dist-packages (from shap) (0.0.8)\n",
            "Requirement already satisfied: numba in /usr/local/lib/python3.11/dist-packages (from shap) (0.60.0)\n",
            "Requirement already satisfied: cloudpickle in /usr/local/lib/python3.11/dist-packages (from shap) (3.1.1)\n",
            "Requirement already satisfied: wheel<1.0,>=0.23.0 in /usr/local/lib/python3.11/dist-packages (from astunparse>=1.6.0->tensorflow) (0.45.1)\n",
            "Requirement already satisfied: rich in /usr/local/lib/python3.11/dist-packages (from keras>=3.5.0->tensorflow) (13.9.4)\n",
            "Requirement already satisfied: namex in /usr/local/lib/python3.11/dist-packages (from keras>=3.5.0->tensorflow) (0.0.8)\n",
            "Requirement already satisfied: optree in /usr/local/lib/python3.11/dist-packages (from keras>=3.5.0->tensorflow) (0.14.1)\n",
            "Requirement already satisfied: charset-normalizer<4,>=2 in /usr/local/lib/python3.11/dist-packages (from requests<3,>=2.21.0->tensorflow) (3.4.1)\n",
            "Requirement already satisfied: idna<4,>=2.5 in /usr/local/lib/python3.11/dist-packages (from requests<3,>=2.21.0->tensorflow) (3.10)\n",
            "Requirement already satisfied: urllib3<3,>=1.21.1 in /usr/local/lib/python3.11/dist-packages (from requests<3,>=2.21.0->tensorflow) (2.3.0)\n",
            "Requirement already satisfied: certifi>=2017.4.17 in /usr/local/lib/python3.11/dist-packages (from requests<3,>=2.21.0->tensorflow) (2025.1.31)\n",
            "Requirement already satisfied: markdown>=2.6.8 in /usr/local/lib/python3.11/dist-packages (from tensorboard<2.19,>=2.18->tensorflow) (3.7)\n",
            "Requirement already satisfied: tensorboard-data-server<0.8.0,>=0.7.0 in /usr/local/lib/python3.11/dist-packages (from tensorboard<2.19,>=2.18->tensorflow) (0.7.2)\n",
            "Requirement already satisfied: werkzeug>=1.0.1 in /usr/local/lib/python3.11/dist-packages (from tensorboard<2.19,>=2.18->tensorflow) (3.1.3)\n",
            "Requirement already satisfied: llvmlite<0.44,>=0.43.0dev0 in /usr/local/lib/python3.11/dist-packages (from numba->shap) (0.43.0)\n",
            "Requirement already satisfied: MarkupSafe>=2.1.1 in /usr/local/lib/python3.11/dist-packages (from werkzeug>=1.0.1->tensorboard<2.19,>=2.18->tensorflow) (3.0.2)\n",
            "Requirement already satisfied: markdown-it-py>=2.2.0 in /usr/local/lib/python3.11/dist-packages (from rich->keras>=3.5.0->tensorflow) (3.0.0)\n",
            "Requirement already satisfied: pygments<3.0.0,>=2.13.0 in /usr/local/lib/python3.11/dist-packages (from rich->keras>=3.5.0->tensorflow) (2.18.0)\n",
            "Requirement already satisfied: mdurl~=0.1 in /usr/local/lib/python3.11/dist-packages (from markdown-it-py>=2.2.0->rich->keras>=3.5.0->tensorflow) (0.1.2)\n",
            "GPU disponível: [PhysicalDevice(name='/physical_device:GPU:0', device_type='GPU')]\n"
          ]
        }
      ]
    },
    {
      "cell_type": "markdown",
      "source": [
        "2. Carregamento e Pré-processamento dos Dados"
      ],
      "metadata": {
        "id": "qKoMPwgqy2dh"
      }
    },
    {
      "cell_type": "code",
      "source": [
        "# Configuração adaptada à sua taxa de amostragem\n",
        "WINDOW_SIZE = 60    # 1 segundo de dados (60 amostras)\n",
        "STEP_SIZE = 30       # Janela deslizante com 50% de sobreposição\n",
        "PHASES = ['Current-A', 'Current-B', 'Current-C']\n",
        "\n",
        "# Função de janelamento otimizada\n",
        "def create_sequences(df, window_size, step):\n",
        "    sequences = []\n",
        "    labels = []\n",
        "\n",
        "    # Agrupar por timestamp único\n",
        "    grouped = df.groupby('Time Stamp').first().reset_index()\n",
        "\n",
        "    for i in range(0, len(grouped) - window_size + 1, step):\n",
        "        window = grouped.iloc[i:i+window_size]\n",
        "\n",
        "        # Verificar consistência temporal\n",
        "        time_diff = pd.to_timedelta(window['Time Stamp'].diff().dropna()).dt.total_seconds()\n",
        "        if (time_diff > 0.1).any():  # Ignorar janelas com gaps > 100ms\n",
        "            continue\n",
        "\n",
        "        seq_data = window[PHASES].values\n",
        "        seq_label = window['label'].values[-1]\n",
        "\n",
        "        sequences.append(seq_data)\n",
        "        labels.append(seq_label)\n",
        "\n",
        "    return np.array(sequences), np.array(labels)"
      ],
      "metadata": {
        "id": "mUrWb6VWy5QY"
      },
      "execution_count": 37,
      "outputs": []
    },
    {
      "cell_type": "markdown",
      "source": [
        "3. Leitura dos Dados"
      ],
      "metadata": {
        "id": "oY-v3Kjm1FGN"
      }
    },
    {
      "cell_type": "code",
      "source": [
        "# 1. Leitura dos dados com tratamento especial para o timestamp\n",
        "folder = \"/content/drive/MyDrive/Colab Notebooks/vibration_motor_dataset/\"\n",
        "healthy = pd.read_csv(folder + 'healthy.csv', skipinitialspace=True)\n",
        "faulty = pd.read_csv(folder + '0.7inner-200watt.csv', skipinitialspace=True)\n",
        "\n",
        "# 2. Verificação inicial das colunas\n",
        "print(\"Colunas originais no healthy.csv:\", healthy.columns.tolist())\n",
        "print(\"Colunas originais no faulty.csv:\", faulty.columns.tolist())\n",
        "\n",
        "# 3. Padronização robusta dos nomes das colunas\n",
        "def clean_column_name(col):\n",
        "    return (\n",
        "        col.strip()                  # Remove espaços extras\n",
        "        .lower()                     # Tudo minúsculo\n",
        "        .replace('-', '')            # Remove hífens\n",
        "        .replace(' ', '')            # Remove espaços\n",
        "        .replace('timestamp', 'time')  # Unificação de termos\n",
        "    )\n",
        "\n",
        "healthy.columns = [clean_column_name(col) for col in healthy.columns]\n",
        "faulty.columns = [clean_column_name(col) for col in faulty.columns]\n",
        "\n",
        "# 4. Verificação pós-limpeza\n",
        "print(\"\\nColunas após limpeza:\")\n",
        "print(\"Healthy:\", healthy.columns.tolist())\n",
        "print(\"Faulty:\", faulty.columns.tolist())\n",
        "\n",
        "# 5. Renomear coluna de tempo para padrão único\n",
        "healthy = healthy.rename(columns={'time': 'timestamp'})\n",
        "faulty = faulty.rename(columns={'time': 'timestamp'})\n",
        "\n",
        "# 6. Verificação final\n",
        "print(\"\\nColunas finais:\")\n",
        "print(\"Healthy:\", healthy.columns.tolist())\n",
        "print(\"Faulty:\", faulty.columns.tolist())\n",
        "\n",
        "# 7. Processamento restante\n",
        "healthy['label'] = 0\n",
        "faulty['label'] = 1\n",
        "\n",
        "full_data = pd.concat([healthy, faulty], ignore_index=True)\n",
        "\n",
        "# Verificar amostras dos timestamps\n",
        "print(\"Amostras de timestamp antes da conversão:\")\n",
        "print(full_data['timestamp'].head(5).to_string(index=False))\n",
        "\n",
        "# Converter explicitando o formato correto\n",
        "full_data['timestamp'] = pd.to_datetime(\n",
        "    full_data['timestamp'],\n",
        "    format='%H:%M:%S',  # Formato das suas horas: Horas:Minutos:Segundos\n",
        "    errors='coerce'     # Converter falhas para NaT (útil para debug)\n",
        ")\n",
        "\n",
        "# Verificar resultados\n",
        "print(\"\\nAmostras após conversão:\")\n",
        "print(full_data['timestamp'].dt.time.head(5))\n"
      ],
      "metadata": {
        "colab": {
          "base_uri": "https://localhost:8080/"
        },
        "id": "KnAcZNy11G1P",
        "outputId": "d99b675e-f1bc-4e6d-fdb9-23c7dad241da"
      },
      "execution_count": 38,
      "outputs": [
        {
          "output_type": "stream",
          "name": "stdout",
          "text": [
            "Colunas originais no healthy.csv: ['Time Stamp', 'Current-A', 'Current-B', 'Current-C']\n",
            "Colunas originais no faulty.csv: ['Time Stamp', 'Current-A', 'Current-B', 'Current-C']\n",
            "\n",
            "Colunas após limpeza:\n",
            "Healthy: ['time', 'currenta', 'currentb', 'currentc']\n",
            "Faulty: ['time', 'currenta', 'currentb', 'currentc']\n",
            "\n",
            "Colunas finais:\n",
            "Healthy: ['timestamp', 'currenta', 'currentb', 'currentc']\n",
            "Faulty: ['timestamp', 'currenta', 'currentb', 'currentc']\n",
            "Amostras de timestamp antes da conversão:\n",
            "13:28:15\n",
            "13:28:15\n",
            "13:28:15\n",
            "13:28:15\n",
            "13:28:15\n",
            "\n",
            "Amostras após conversão:\n",
            "0    13:28:15\n",
            "1    13:28:15\n",
            "2    13:28:15\n",
            "3    13:28:15\n",
            "4    13:28:15\n",
            "Name: timestamp, dtype: object\n"
          ]
        }
      ]
    },
    {
      "cell_type": "markdown",
      "source": [
        "4. Engenharia de Features"
      ],
      "metadata": {
        "id": "bdhdzo_V15zt"
      }
    },
    {
      "cell_type": "code",
      "source": [
        "def calculate_phase_features(df):\n",
        "    df['current_avg'] = df[['currenta', 'currentb', 'currentc']].mean(axis=1)\n",
        "    df['imbalance'] = df[['currenta', 'currentb', 'currentc']].std(axis=1)\n",
        "    df['max_phase'] = df[['currenta', 'currentb', 'currentc']].max(axis=1)\n",
        "    df['min_phase'] = df[['currenta', 'currentb', 'currentc']].min(axis=1)\n",
        "    df['thd'] = (df[['currenta', 'currentb', 'currentc']].sub(df['current_avg'], axis=0)**2).mean(axis=1)**0.5 / df['current_avg']\n",
        "    return df\n",
        "\n",
        "full_data = calculate_phase_features(full_data)"
      ],
      "metadata": {
        "id": "Z3vcwE5Z17x6"
      },
      "execution_count": 39,
      "outputs": []
    },
    {
      "cell_type": "markdown",
      "source": [
        "5. Criação das Janelas Temporais"
      ],
      "metadata": {
        "id": "HGJgOUQD2AWO"
      }
    },
    {
      "cell_type": "code",
      "source": [
        "WINDOW_SIZE = 60  # 1 segundo de dados (60 amostras)\n",
        "STEP_SIZE = 30     # Janela deslizante com 50% de sobreposição\n",
        "\n",
        "def create_sequences(df, window_size, step):\n",
        "    sequences = []\n",
        "    labels = []\n",
        "\n",
        "    # Converter timestamp para datetime\n",
        "    df['timestamp'] = pd.to_datetime(df['timestamp'])\n",
        "\n",
        "    # Ordenar por timestamp\n",
        "    df = df.sort_values('timestamp').reset_index(drop=True)\n",
        "\n",
        "    # Verificar frequência de amostragem\n",
        "    time_diff = df['timestamp'].diff().dt.total_seconds().mean()\n",
        "    print(f\"Frequência média de amostragem: {1/time_diff:.2f} Hz\")\n",
        "\n",
        "    # Criar janelas\n",
        "    for i in range(0, len(df) - window_size + 1, step):\n",
        "        window = df.iloc[i:i+window_size]\n",
        "        seq_data = window[['currenta', 'currentb', 'currentc',\n",
        "                         'current_avg', 'imbalance', 'max_phase',\n",
        "                         'min_phase', 'thd']].values\n",
        "        seq_label = window['label'].values[-1]\n",
        "        sequences.append(seq_data)\n",
        "        labels.append(seq_label)\n",
        "\n",
        "    return np.array(sequences), np.array(labels)\n",
        "\n",
        "# Criar as sequências (X e y)\n",
        "X, y = create_sequences(full_data, WINDOW_SIZE, STEP_SIZE)\n",
        "\n",
        "# Verificar resultados\n",
        "print(\"\\nShape do X:\", X.shape)\n",
        "print(\"Shape do y:\", y.shape)\n",
        "print(\"Proporção de classes:\", np.bincount(y.astype(int)) / len(y))\n"
      ],
      "metadata": {
        "colab": {
          "base_uri": "https://localhost:8080/"
        },
        "id": "QZtq7Y2u2B59",
        "outputId": "906680aa-b0b2-48f6-bf89-7c37bdca5ed0"
      },
      "execution_count": 40,
      "outputs": [
        {
          "output_type": "stream",
          "name": "stdout",
          "text": [
            "Frequência média de amostragem: 171.51 Hz\n",
            "\n",
            "Shape do X: (8077, 60, 8)\n",
            "Shape do y: (8077,)\n",
            "Proporção de classes: [0.48260493 0.51739507]\n"
          ]
        }
      ]
    },
    {
      "cell_type": "markdown",
      "source": [
        "6. Definição do Modelo"
      ],
      "metadata": {
        "id": "aSUxLzkq4CNA"
      }
    },
    {
      "cell_type": "code",
      "source": [
        "from tensorflow.keras.models import Model\n",
        "from tensorflow.keras.layers import Input, Conv1D, MaxPooling1D, LSTM, Dense, Bidirectional, Concatenate\n",
        "\n",
        "def criar_modelo(input_shape):\n",
        "    # Camada de entrada\n",
        "    inputs = Input(shape=input_shape)\n",
        "\n",
        "    # Branch para processamento de cada fase\n",
        "    conv1 = Conv1D(64, 5, activation='relu')(inputs)\n",
        "    pool1 = MaxPooling1D(2)(conv1)\n",
        "\n",
        "    # Branch para análise temporal\n",
        "    lstm1 = Bidirectional(LSTM(32, return_sequences=True))(pool1)\n",
        "\n",
        "    # Combinação\n",
        "    combined = Concatenate()([pool1, lstm1])\n",
        "\n",
        "    # Camadas finais\n",
        "    x = Conv1D(128, 3, activation='relu')(combined)\n",
        "    x = MaxPooling1D(2)(x)\n",
        "    x = Flatten()(x)\n",
        "    outputs = Dense(1, activation='sigmoid')(x)\n",
        "\n",
        "    # Compilação\n",
        "    model = Model(inputs=inputs, outputs=outputs)\n",
        "    model.compile(\n",
        "        optimizer='adam',\n",
        "        loss='binary_crossentropy',\n",
        "        metrics=['accuracy', tf.keras.metrics.AUC(name='auc')]\n",
        "    )\n",
        "    return model\n",
        "\n",
        "# Criar o modelo (execute esta linha!)\n",
        "model = criar_modelo((WINDOW_SIZE, 8))  # 8 features por passo temporal\n",
        "print(model.summary())"
      ],
      "metadata": {
        "colab": {
          "base_uri": "https://localhost:8080/",
          "height": 544
        },
        "id": "9vP6jJnC4B4B",
        "outputId": "9de08eac-e819-43b8-90eb-5fd2509319a2"
      },
      "execution_count": 41,
      "outputs": [
        {
          "output_type": "display_data",
          "data": {
            "text/plain": [
              "\u001b[1mModel: \"functional_2\"\u001b[0m\n"
            ],
            "text/html": [
              "<pre style=\"white-space:pre;overflow-x:auto;line-height:normal;font-family:Menlo,'DejaVu Sans Mono',consolas,'Courier New',monospace\"><span style=\"font-weight: bold\">Model: \"functional_2\"</span>\n",
              "</pre>\n"
            ]
          },
          "metadata": {}
        },
        {
          "output_type": "display_data",
          "data": {
            "text/plain": [
              "┏━━━━━━━━━━━━━━━━━━━━━━━━━━━┳━━━━━━━━━━━━━━━━━━━━━━━━┳━━━━━━━━━━━━━━━━┳━━━━━━━━━━━━━━━━━━━━━━━━┓\n",
              "┃\u001b[1m \u001b[0m\u001b[1mLayer (type)             \u001b[0m\u001b[1m \u001b[0m┃\u001b[1m \u001b[0m\u001b[1mOutput Shape          \u001b[0m\u001b[1m \u001b[0m┃\u001b[1m \u001b[0m\u001b[1m       Param #\u001b[0m\u001b[1m \u001b[0m┃\u001b[1m \u001b[0m\u001b[1mConnected to          \u001b[0m\u001b[1m \u001b[0m┃\n",
              "┡━━━━━━━━━━━━━━━━━━━━━━━━━━━╇━━━━━━━━━━━━━━━━━━━━━━━━╇━━━━━━━━━━━━━━━━╇━━━━━━━━━━━━━━━━━━━━━━━━┩\n",
              "│ input_layer_2             │ (\u001b[38;5;45mNone\u001b[0m, \u001b[38;5;34m60\u001b[0m, \u001b[38;5;34m8\u001b[0m)          │              \u001b[38;5;34m0\u001b[0m │ -                      │\n",
              "│ (\u001b[38;5;33mInputLayer\u001b[0m)              │                        │                │                        │\n",
              "├───────────────────────────┼────────────────────────┼────────────────┼────────────────────────┤\n",
              "│ conv1d_4 (\u001b[38;5;33mConv1D\u001b[0m)         │ (\u001b[38;5;45mNone\u001b[0m, \u001b[38;5;34m56\u001b[0m, \u001b[38;5;34m64\u001b[0m)         │          \u001b[38;5;34m2,624\u001b[0m │ input_layer_2[\u001b[38;5;34m0\u001b[0m][\u001b[38;5;34m0\u001b[0m]    │\n",
              "├───────────────────────────┼────────────────────────┼────────────────┼────────────────────────┤\n",
              "│ max_pooling1d_4           │ (\u001b[38;5;45mNone\u001b[0m, \u001b[38;5;34m28\u001b[0m, \u001b[38;5;34m64\u001b[0m)         │              \u001b[38;5;34m0\u001b[0m │ conv1d_4[\u001b[38;5;34m0\u001b[0m][\u001b[38;5;34m0\u001b[0m]         │\n",
              "│ (\u001b[38;5;33mMaxPooling1D\u001b[0m)            │                        │                │                        │\n",
              "├───────────────────────────┼────────────────────────┼────────────────┼────────────────────────┤\n",
              "│ bidirectional_2           │ (\u001b[38;5;45mNone\u001b[0m, \u001b[38;5;34m28\u001b[0m, \u001b[38;5;34m64\u001b[0m)         │         \u001b[38;5;34m24,832\u001b[0m │ max_pooling1d_4[\u001b[38;5;34m0\u001b[0m][\u001b[38;5;34m0\u001b[0m]  │\n",
              "│ (\u001b[38;5;33mBidirectional\u001b[0m)           │                        │                │                        │\n",
              "├───────────────────────────┼────────────────────────┼────────────────┼────────────────────────┤\n",
              "│ concatenate_2             │ (\u001b[38;5;45mNone\u001b[0m, \u001b[38;5;34m28\u001b[0m, \u001b[38;5;34m128\u001b[0m)        │              \u001b[38;5;34m0\u001b[0m │ max_pooling1d_4[\u001b[38;5;34m0\u001b[0m][\u001b[38;5;34m0\u001b[0m], │\n",
              "│ (\u001b[38;5;33mConcatenate\u001b[0m)             │                        │                │ bidirectional_2[\u001b[38;5;34m0\u001b[0m][\u001b[38;5;34m0\u001b[0m]  │\n",
              "├───────────────────────────┼────────────────────────┼────────────────┼────────────────────────┤\n",
              "│ conv1d_5 (\u001b[38;5;33mConv1D\u001b[0m)         │ (\u001b[38;5;45mNone\u001b[0m, \u001b[38;5;34m26\u001b[0m, \u001b[38;5;34m128\u001b[0m)        │         \u001b[38;5;34m49,280\u001b[0m │ concatenate_2[\u001b[38;5;34m0\u001b[0m][\u001b[38;5;34m0\u001b[0m]    │\n",
              "├───────────────────────────┼────────────────────────┼────────────────┼────────────────────────┤\n",
              "│ max_pooling1d_5           │ (\u001b[38;5;45mNone\u001b[0m, \u001b[38;5;34m13\u001b[0m, \u001b[38;5;34m128\u001b[0m)        │              \u001b[38;5;34m0\u001b[0m │ conv1d_5[\u001b[38;5;34m0\u001b[0m][\u001b[38;5;34m0\u001b[0m]         │\n",
              "│ (\u001b[38;5;33mMaxPooling1D\u001b[0m)            │                        │                │                        │\n",
              "├───────────────────────────┼────────────────────────┼────────────────┼────────────────────────┤\n",
              "│ flatten_2 (\u001b[38;5;33mFlatten\u001b[0m)       │ (\u001b[38;5;45mNone\u001b[0m, \u001b[38;5;34m1664\u001b[0m)           │              \u001b[38;5;34m0\u001b[0m │ max_pooling1d_5[\u001b[38;5;34m0\u001b[0m][\u001b[38;5;34m0\u001b[0m]  │\n",
              "├───────────────────────────┼────────────────────────┼────────────────┼────────────────────────┤\n",
              "│ dense_2 (\u001b[38;5;33mDense\u001b[0m)           │ (\u001b[38;5;45mNone\u001b[0m, \u001b[38;5;34m1\u001b[0m)              │          \u001b[38;5;34m1,665\u001b[0m │ flatten_2[\u001b[38;5;34m0\u001b[0m][\u001b[38;5;34m0\u001b[0m]        │\n",
              "└───────────────────────────┴────────────────────────┴────────────────┴────────────────────────┘\n"
            ],
            "text/html": [
              "<pre style=\"white-space:pre;overflow-x:auto;line-height:normal;font-family:Menlo,'DejaVu Sans Mono',consolas,'Courier New',monospace\">┏━━━━━━━━━━━━━━━━━━━━━━━━━━━┳━━━━━━━━━━━━━━━━━━━━━━━━┳━━━━━━━━━━━━━━━━┳━━━━━━━━━━━━━━━━━━━━━━━━┓\n",
              "┃<span style=\"font-weight: bold\"> Layer (type)              </span>┃<span style=\"font-weight: bold\"> Output Shape           </span>┃<span style=\"font-weight: bold\">        Param # </span>┃<span style=\"font-weight: bold\"> Connected to           </span>┃\n",
              "┡━━━━━━━━━━━━━━━━━━━━━━━━━━━╇━━━━━━━━━━━━━━━━━━━━━━━━╇━━━━━━━━━━━━━━━━╇━━━━━━━━━━━━━━━━━━━━━━━━┩\n",
              "│ input_layer_2             │ (<span style=\"color: #00d7ff; text-decoration-color: #00d7ff\">None</span>, <span style=\"color: #00af00; text-decoration-color: #00af00\">60</span>, <span style=\"color: #00af00; text-decoration-color: #00af00\">8</span>)          │              <span style=\"color: #00af00; text-decoration-color: #00af00\">0</span> │ -                      │\n",
              "│ (<span style=\"color: #0087ff; text-decoration-color: #0087ff\">InputLayer</span>)              │                        │                │                        │\n",
              "├───────────────────────────┼────────────────────────┼────────────────┼────────────────────────┤\n",
              "│ conv1d_4 (<span style=\"color: #0087ff; text-decoration-color: #0087ff\">Conv1D</span>)         │ (<span style=\"color: #00d7ff; text-decoration-color: #00d7ff\">None</span>, <span style=\"color: #00af00; text-decoration-color: #00af00\">56</span>, <span style=\"color: #00af00; text-decoration-color: #00af00\">64</span>)         │          <span style=\"color: #00af00; text-decoration-color: #00af00\">2,624</span> │ input_layer_2[<span style=\"color: #00af00; text-decoration-color: #00af00\">0</span>][<span style=\"color: #00af00; text-decoration-color: #00af00\">0</span>]    │\n",
              "├───────────────────────────┼────────────────────────┼────────────────┼────────────────────────┤\n",
              "│ max_pooling1d_4           │ (<span style=\"color: #00d7ff; text-decoration-color: #00d7ff\">None</span>, <span style=\"color: #00af00; text-decoration-color: #00af00\">28</span>, <span style=\"color: #00af00; text-decoration-color: #00af00\">64</span>)         │              <span style=\"color: #00af00; text-decoration-color: #00af00\">0</span> │ conv1d_4[<span style=\"color: #00af00; text-decoration-color: #00af00\">0</span>][<span style=\"color: #00af00; text-decoration-color: #00af00\">0</span>]         │\n",
              "│ (<span style=\"color: #0087ff; text-decoration-color: #0087ff\">MaxPooling1D</span>)            │                        │                │                        │\n",
              "├───────────────────────────┼────────────────────────┼────────────────┼────────────────────────┤\n",
              "│ bidirectional_2           │ (<span style=\"color: #00d7ff; text-decoration-color: #00d7ff\">None</span>, <span style=\"color: #00af00; text-decoration-color: #00af00\">28</span>, <span style=\"color: #00af00; text-decoration-color: #00af00\">64</span>)         │         <span style=\"color: #00af00; text-decoration-color: #00af00\">24,832</span> │ max_pooling1d_4[<span style=\"color: #00af00; text-decoration-color: #00af00\">0</span>][<span style=\"color: #00af00; text-decoration-color: #00af00\">0</span>]  │\n",
              "│ (<span style=\"color: #0087ff; text-decoration-color: #0087ff\">Bidirectional</span>)           │                        │                │                        │\n",
              "├───────────────────────────┼────────────────────────┼────────────────┼────────────────────────┤\n",
              "│ concatenate_2             │ (<span style=\"color: #00d7ff; text-decoration-color: #00d7ff\">None</span>, <span style=\"color: #00af00; text-decoration-color: #00af00\">28</span>, <span style=\"color: #00af00; text-decoration-color: #00af00\">128</span>)        │              <span style=\"color: #00af00; text-decoration-color: #00af00\">0</span> │ max_pooling1d_4[<span style=\"color: #00af00; text-decoration-color: #00af00\">0</span>][<span style=\"color: #00af00; text-decoration-color: #00af00\">0</span>], │\n",
              "│ (<span style=\"color: #0087ff; text-decoration-color: #0087ff\">Concatenate</span>)             │                        │                │ bidirectional_2[<span style=\"color: #00af00; text-decoration-color: #00af00\">0</span>][<span style=\"color: #00af00; text-decoration-color: #00af00\">0</span>]  │\n",
              "├───────────────────────────┼────────────────────────┼────────────────┼────────────────────────┤\n",
              "│ conv1d_5 (<span style=\"color: #0087ff; text-decoration-color: #0087ff\">Conv1D</span>)         │ (<span style=\"color: #00d7ff; text-decoration-color: #00d7ff\">None</span>, <span style=\"color: #00af00; text-decoration-color: #00af00\">26</span>, <span style=\"color: #00af00; text-decoration-color: #00af00\">128</span>)        │         <span style=\"color: #00af00; text-decoration-color: #00af00\">49,280</span> │ concatenate_2[<span style=\"color: #00af00; text-decoration-color: #00af00\">0</span>][<span style=\"color: #00af00; text-decoration-color: #00af00\">0</span>]    │\n",
              "├───────────────────────────┼────────────────────────┼────────────────┼────────────────────────┤\n",
              "│ max_pooling1d_5           │ (<span style=\"color: #00d7ff; text-decoration-color: #00d7ff\">None</span>, <span style=\"color: #00af00; text-decoration-color: #00af00\">13</span>, <span style=\"color: #00af00; text-decoration-color: #00af00\">128</span>)        │              <span style=\"color: #00af00; text-decoration-color: #00af00\">0</span> │ conv1d_5[<span style=\"color: #00af00; text-decoration-color: #00af00\">0</span>][<span style=\"color: #00af00; text-decoration-color: #00af00\">0</span>]         │\n",
              "│ (<span style=\"color: #0087ff; text-decoration-color: #0087ff\">MaxPooling1D</span>)            │                        │                │                        │\n",
              "├───────────────────────────┼────────────────────────┼────────────────┼────────────────────────┤\n",
              "│ flatten_2 (<span style=\"color: #0087ff; text-decoration-color: #0087ff\">Flatten</span>)       │ (<span style=\"color: #00d7ff; text-decoration-color: #00d7ff\">None</span>, <span style=\"color: #00af00; text-decoration-color: #00af00\">1664</span>)           │              <span style=\"color: #00af00; text-decoration-color: #00af00\">0</span> │ max_pooling1d_5[<span style=\"color: #00af00; text-decoration-color: #00af00\">0</span>][<span style=\"color: #00af00; text-decoration-color: #00af00\">0</span>]  │\n",
              "├───────────────────────────┼────────────────────────┼────────────────┼────────────────────────┤\n",
              "│ dense_2 (<span style=\"color: #0087ff; text-decoration-color: #0087ff\">Dense</span>)           │ (<span style=\"color: #00d7ff; text-decoration-color: #00d7ff\">None</span>, <span style=\"color: #00af00; text-decoration-color: #00af00\">1</span>)              │          <span style=\"color: #00af00; text-decoration-color: #00af00\">1,665</span> │ flatten_2[<span style=\"color: #00af00; text-decoration-color: #00af00\">0</span>][<span style=\"color: #00af00; text-decoration-color: #00af00\">0</span>]        │\n",
              "└───────────────────────────┴────────────────────────┴────────────────┴────────────────────────┘\n",
              "</pre>\n"
            ]
          },
          "metadata": {}
        },
        {
          "output_type": "display_data",
          "data": {
            "text/plain": [
              "\u001b[1m Total params: \u001b[0m\u001b[38;5;34m78,401\u001b[0m (306.25 KB)\n"
            ],
            "text/html": [
              "<pre style=\"white-space:pre;overflow-x:auto;line-height:normal;font-family:Menlo,'DejaVu Sans Mono',consolas,'Courier New',monospace\"><span style=\"font-weight: bold\"> Total params: </span><span style=\"color: #00af00; text-decoration-color: #00af00\">78,401</span> (306.25 KB)\n",
              "</pre>\n"
            ]
          },
          "metadata": {}
        },
        {
          "output_type": "display_data",
          "data": {
            "text/plain": [
              "\u001b[1m Trainable params: \u001b[0m\u001b[38;5;34m78,401\u001b[0m (306.25 KB)\n"
            ],
            "text/html": [
              "<pre style=\"white-space:pre;overflow-x:auto;line-height:normal;font-family:Menlo,'DejaVu Sans Mono',consolas,'Courier New',monospace\"><span style=\"font-weight: bold\"> Trainable params: </span><span style=\"color: #00af00; text-decoration-color: #00af00\">78,401</span> (306.25 KB)\n",
              "</pre>\n"
            ]
          },
          "metadata": {}
        },
        {
          "output_type": "display_data",
          "data": {
            "text/plain": [
              "\u001b[1m Non-trainable params: \u001b[0m\u001b[38;5;34m0\u001b[0m (0.00 B)\n"
            ],
            "text/html": [
              "<pre style=\"white-space:pre;overflow-x:auto;line-height:normal;font-family:Menlo,'DejaVu Sans Mono',consolas,'Courier New',monospace\"><span style=\"font-weight: bold\"> Non-trainable params: </span><span style=\"color: #00af00; text-decoration-color: #00af00\">0</span> (0.00 B)\n",
              "</pre>\n"
            ]
          },
          "metadata": {}
        },
        {
          "output_type": "stream",
          "name": "stdout",
          "text": [
            "None\n"
          ]
        }
      ]
    },
    {
      "cell_type": "markdown",
      "source": [
        "7. Divisão dos Dados"
      ],
      "metadata": {
        "id": "JwQXTTg74H6y"
      }
    },
    {
      "cell_type": "code",
      "source": [
        "# Divisão temporal (não aleatória)\n",
        "split_idx = int(0.8 * len(X))\n",
        "X_train, X_test = X[:split_idx], X[split_idx:]\n",
        "y_train, y_test = y[:split_idx], y[split_idx:]\n",
        "\n",
        "# Verificação\n",
        "print(f\"Treino: {len(X_train)} amostras\")\n",
        "print(f\"Teste: {len(X_test)} amostras\")"
      ],
      "metadata": {
        "colab": {
          "base_uri": "https://localhost:8080/"
        },
        "id": "xF3cbTyM4IrE",
        "outputId": "3bec409f-4f9a-47fd-802c-746fa668b5db"
      },
      "execution_count": 42,
      "outputs": [
        {
          "output_type": "stream",
          "name": "stdout",
          "text": [
            "Treino: 6461 amostras\n",
            "Teste: 1616 amostras\n"
          ]
        }
      ]
    },
    {
      "cell_type": "markdown",
      "source": [
        "8.Treinamento"
      ],
      "metadata": {
        "id": "i5il_Ncn8YCs"
      }
    },
    {
      "cell_type": "code",
      "source": [
        "from tensorflow.keras.callbacks import ModelCheckpoint\n",
        "\n",
        "# Callback para salvar o melhor modelo\n",
        "checkpoint = ModelCheckpoint(\n",
        "    filepath='best_model.h5',  # Nome do arquivo\n",
        "    monitor='val_auc',         # Métrica a ser monitorada\n",
        "    save_best_only=True,       # Salvar apenas o melhor modelo\n",
        "    mode='max',                # Maximizar a métrica (AUC)\n",
        "    verbose=1                  # Mostrar mensagens\n",
        ")\n",
        "\n",
        "# Callbacks\n",
        "early_stop = tf.keras.callbacks.EarlyStopping(\n",
        "    monitor='val_auc',\n",
        "    patience=15,\n",
        "    mode='max',\n",
        "    restore_best_weights=True\n",
        ")\n",
        "\n",
        "# Callbacks combinados\n",
        "callbacks = [early_stop, checkpoint]\n",
        "\n",
        "# Treinamento\n",
        "history = model.fit(\n",
        "    X_train, y_train,\n",
        "    validation_data=(X_test, y_test),\n",
        "    epochs=100,\n",
        "    batch_size=128,\n",
        "    callbacks=callbacks,  # Agora inclui o ModelCheckpoint\n",
        "    verbose=1\n",
        ")\n",
        "\n",
        "# Plot de métricas\n",
        "plt.plot(history.history['auc'], label='Train AUC')\n",
        "plt.plot(history.history['val_auc'], label='Validation AUC')\n",
        "plt.legend()\n",
        "plt.show()"
      ],
      "metadata": {
        "colab": {
          "base_uri": "https://localhost:8080/",
          "height": 1000
        },
        "id": "_bT3kxWQ8aim",
        "outputId": "e85457f1-7bcb-4eb2-ad68-5d79e050894a"
      },
      "execution_count": 43,
      "outputs": [
        {
          "output_type": "stream",
          "name": "stdout",
          "text": [
            "Epoch 1/100\n",
            "\u001b[1m49/51\u001b[0m \u001b[32m━━━━━━━━━━━━━━━━━━━\u001b[0m\u001b[37m━\u001b[0m \u001b[1m0s\u001b[0m 19ms/step - accuracy: 0.5947 - auc: 0.6136 - loss: 0.6758\n",
            "Epoch 1: val_auc improved from -inf to 0.00000, saving model to best_model.h5\n"
          ]
        },
        {
          "output_type": "stream",
          "name": "stderr",
          "text": [
            "WARNING:absl:You are saving your model as an HDF5 file via `model.save()` or `keras.saving.save_model(model)`. This file format is considered legacy. We recommend using instead the native Keras format, e.g. `model.save('my_model.keras')` or `keras.saving.save_model(model, 'my_model.keras')`. \n"
          ]
        },
        {
          "output_type": "stream",
          "name": "stdout",
          "text": [
            "\b\b\b\b\b\b\b\b\b\b\b\b\b\b\b\b\b\b\b\b\b\b\b\b\b\b\b\b\b\b\b\b\b\b\b\b\b\b\b\b\b\b\b\b\b\b\b\b\b\b\b\b\b\b\b\b\b\b\b\b\b\b\b\b\b\b\b\b\b\b\b\b\b\b\b\b\b\b\b\b\b\b\b\b\b\b\b\r\u001b[1m51/51\u001b[0m \u001b[32m━━━━━━━━━━━━━━━━━━━━\u001b[0m\u001b[37m\u001b[0m \u001b[1m8s\u001b[0m 44ms/step - accuracy: 0.6027 - auc: 0.6244 - loss: 0.6677 - val_accuracy: 1.0000 - val_auc: 0.0000e+00 - val_loss: 0.0109\n",
            "Epoch 2/100\n",
            "\u001b[1m50/51\u001b[0m \u001b[32m━━━━━━━━━━━━━━━━━━━\u001b[0m\u001b[37m━\u001b[0m \u001b[1m0s\u001b[0m 20ms/step - accuracy: 0.9999 - auc: 0.9999 - loss: 0.0053\n",
            "Epoch 2: val_auc did not improve from 0.00000\n",
            "\u001b[1m51/51\u001b[0m \u001b[32m━━━━━━━━━━━━━━━━━━━━\u001b[0m\u001b[37m\u001b[0m \u001b[1m1s\u001b[0m 25ms/step - accuracy: 0.9999 - auc: 0.9999 - loss: 0.0052 - val_accuracy: 1.0000 - val_auc: 0.0000e+00 - val_loss: 2.3383e-06\n",
            "Epoch 3/100\n",
            "\u001b[1m47/51\u001b[0m \u001b[32m━━━━━━━━━━━━━━━━━━\u001b[0m\u001b[37m━━\u001b[0m \u001b[1m0s\u001b[0m 15ms/step - accuracy: 0.9998 - auc: 1.0000 - loss: 7.9393e-04\n",
            "Epoch 3: val_auc did not improve from 0.00000\n",
            "\u001b[1m51/51\u001b[0m \u001b[32m━━━━━━━━━━━━━━━━━━━━\u001b[0m\u001b[37m\u001b[0m \u001b[1m2s\u001b[0m 17ms/step - accuracy: 0.9998 - auc: 1.0000 - loss: 7.7371e-04 - val_accuracy: 1.0000 - val_auc: 0.0000e+00 - val_loss: 7.7265e-06\n",
            "Epoch 4/100\n",
            "\u001b[1m46/51\u001b[0m \u001b[32m━━━━━━━━━━━━━━━━━━\u001b[0m\u001b[37m━━\u001b[0m \u001b[1m0s\u001b[0m 10ms/step - accuracy: 0.9998 - auc: 1.0000 - loss: 4.7596e-04\n",
            "Epoch 4: val_auc did not improve from 0.00000\n",
            "\u001b[1m51/51\u001b[0m \u001b[32m━━━━━━━━━━━━━━━━━━━━\u001b[0m\u001b[37m\u001b[0m \u001b[1m1s\u001b[0m 12ms/step - accuracy: 0.9998 - auc: 1.0000 - loss: 4.7326e-04 - val_accuracy: 1.0000 - val_auc: 0.0000e+00 - val_loss: 8.2698e-07\n",
            "Epoch 5/100\n",
            "\u001b[1m49/51\u001b[0m \u001b[32m━━━━━━━━━━━━━━━━━━━\u001b[0m\u001b[37m━\u001b[0m \u001b[1m0s\u001b[0m 9ms/step - accuracy: 1.0000 - auc: 1.0000 - loss: 2.4271e-05\n",
            "Epoch 5: val_auc did not improve from 0.00000\n",
            "\u001b[1m51/51\u001b[0m \u001b[32m━━━━━━━━━━━━━━━━━━━━\u001b[0m\u001b[37m\u001b[0m \u001b[1m1s\u001b[0m 13ms/step - accuracy: 1.0000 - auc: 1.0000 - loss: 2.7151e-05 - val_accuracy: 1.0000 - val_auc: 0.0000e+00 - val_loss: 4.4286e-07\n",
            "Epoch 6/100\n",
            "\u001b[1m48/51\u001b[0m \u001b[32m━━━━━━━━━━━━━━━━━━\u001b[0m\u001b[37m━━\u001b[0m \u001b[1m0s\u001b[0m 10ms/step - accuracy: 1.0000 - auc: 1.0000 - loss: 3.7685e-05\n",
            "Epoch 6: val_auc did not improve from 0.00000\n",
            "\u001b[1m51/51\u001b[0m \u001b[32m━━━━━━━━━━━━━━━━━━━━\u001b[0m\u001b[37m\u001b[0m \u001b[1m1s\u001b[0m 12ms/step - accuracy: 1.0000 - auc: 1.0000 - loss: 3.8191e-05 - val_accuracy: 1.0000 - val_auc: 0.0000e+00 - val_loss: 2.8842e-07\n",
            "Epoch 7/100\n",
            "\u001b[1m50/51\u001b[0m \u001b[32m━━━━━━━━━━━━━━━━━━━\u001b[0m\u001b[37m━\u001b[0m \u001b[1m0s\u001b[0m 13ms/step - accuracy: 1.0000 - auc: 1.0000 - loss: 4.1755e-05\n",
            "Epoch 7: val_auc did not improve from 0.00000\n",
            "\u001b[1m51/51\u001b[0m \u001b[32m━━━━━━━━━━━━━━━━━━━━\u001b[0m\u001b[37m\u001b[0m \u001b[1m1s\u001b[0m 17ms/step - accuracy: 1.0000 - auc: 1.0000 - loss: 4.1191e-05 - val_accuracy: 1.0000 - val_auc: 0.0000e+00 - val_loss: 3.2440e-07\n",
            "Epoch 8/100\n",
            "\u001b[1m49/51\u001b[0m \u001b[32m━━━━━━━━━━━━━━━━━━━\u001b[0m\u001b[37m━\u001b[0m \u001b[1m0s\u001b[0m 14ms/step - accuracy: 1.0000 - auc: 1.0000 - loss: 1.2838e-05\n",
            "Epoch 8: val_auc did not improve from 0.00000\n",
            "\u001b[1m51/51\u001b[0m \u001b[32m━━━━━━━━━━━━━━━━━━━━\u001b[0m\u001b[37m\u001b[0m \u001b[1m1s\u001b[0m 17ms/step - accuracy: 1.0000 - auc: 1.0000 - loss: 1.3437e-05 - val_accuracy: 1.0000 - val_auc: 0.0000e+00 - val_loss: 2.2608e-07\n",
            "Epoch 9/100\n",
            "\u001b[1m48/51\u001b[0m \u001b[32m━━━━━━━━━━━━━━━━━━\u001b[0m\u001b[37m━━\u001b[0m \u001b[1m0s\u001b[0m 15ms/step - accuracy: 1.0000 - auc: 1.0000 - loss: 1.6646e-05\n",
            "Epoch 9: val_auc did not improve from 0.00000\n",
            "\u001b[1m51/51\u001b[0m \u001b[32m━━━━━━━━━━━━━━━━━━━━\u001b[0m\u001b[37m\u001b[0m \u001b[1m1s\u001b[0m 19ms/step - accuracy: 1.0000 - auc: 1.0000 - loss: 1.6654e-05 - val_accuracy: 1.0000 - val_auc: 0.0000e+00 - val_loss: 1.9503e-07\n",
            "Epoch 10/100\n",
            "\u001b[1m46/51\u001b[0m \u001b[32m━━━━━━━━━━━━━━━━━━\u001b[0m\u001b[37m━━\u001b[0m \u001b[1m0s\u001b[0m 10ms/step - accuracy: 1.0000 - auc: 1.0000 - loss: 7.6683e-06\n",
            "Epoch 10: val_auc did not improve from 0.00000\n",
            "\u001b[1m51/51\u001b[0m \u001b[32m━━━━━━━━━━━━━━━━━━━━\u001b[0m\u001b[37m\u001b[0m \u001b[1m1s\u001b[0m 12ms/step - accuracy: 1.0000 - auc: 1.0000 - loss: 8.4979e-06 - val_accuracy: 1.0000 - val_auc: 0.0000e+00 - val_loss: 2.1075e-07\n",
            "Epoch 11/100\n",
            "\u001b[1m49/51\u001b[0m \u001b[32m━━━━━━━━━━━━━━━━━━━\u001b[0m\u001b[37m━\u001b[0m \u001b[1m0s\u001b[0m 9ms/step - accuracy: 1.0000 - auc: 1.0000 - loss: 9.8718e-06\n",
            "Epoch 11: val_auc did not improve from 0.00000\n",
            "\u001b[1m51/51\u001b[0m \u001b[32m━━━━━━━━━━━━━━━━━━━━\u001b[0m\u001b[37m\u001b[0m \u001b[1m1s\u001b[0m 12ms/step - accuracy: 1.0000 - auc: 1.0000 - loss: 9.9606e-06 - val_accuracy: 1.0000 - val_auc: 0.0000e+00 - val_loss: 1.4420e-07\n",
            "Epoch 12/100\n",
            "\u001b[1m47/51\u001b[0m \u001b[32m━━━━━━━━━━━━━━━━━━\u001b[0m\u001b[37m━━\u001b[0m \u001b[1m0s\u001b[0m 10ms/step - accuracy: 1.0000 - auc: 1.0000 - loss: 6.3171e-06\n",
            "Epoch 12: val_auc did not improve from 0.00000\n",
            "\u001b[1m51/51\u001b[0m \u001b[32m━━━━━━━━━━━━━━━━━━━━\u001b[0m\u001b[37m\u001b[0m \u001b[1m1s\u001b[0m 13ms/step - accuracy: 1.0000 - auc: 1.0000 - loss: 6.6895e-06 - val_accuracy: 1.0000 - val_auc: 0.0000e+00 - val_loss: 1.4949e-07\n",
            "Epoch 13/100\n",
            "\u001b[1m47/51\u001b[0m \u001b[32m━━━━━━━━━━━━━━━━━━\u001b[0m\u001b[37m━━\u001b[0m \u001b[1m0s\u001b[0m 10ms/step - accuracy: 1.0000 - auc: 1.0000 - loss: 5.4200e-06\n",
            "Epoch 13: val_auc did not improve from 0.00000\n",
            "\u001b[1m51/51\u001b[0m \u001b[32m━━━━━━━━━━━━━━━━━━━━\u001b[0m\u001b[37m\u001b[0m \u001b[1m1s\u001b[0m 12ms/step - accuracy: 1.0000 - auc: 1.0000 - loss: 5.7139e-06 - val_accuracy: 1.0000 - val_auc: 0.0000e+00 - val_loss: 1.2539e-07\n",
            "Epoch 14/100\n",
            "\u001b[1m49/51\u001b[0m \u001b[32m━━━━━━━━━━━━━━━━━━━\u001b[0m\u001b[37m━\u001b[0m \u001b[1m0s\u001b[0m 9ms/step - accuracy: 1.0000 - auc: 1.0000 - loss: 4.1382e-06\n",
            "Epoch 14: val_auc did not improve from 0.00000\n",
            "\u001b[1m51/51\u001b[0m \u001b[32m━━━━━━━━━━━━━━━━━━━━\u001b[0m\u001b[37m\u001b[0m \u001b[1m1s\u001b[0m 13ms/step - accuracy: 1.0000 - auc: 1.0000 - loss: 4.3286e-06 - val_accuracy: 1.0000 - val_auc: 0.0000e+00 - val_loss: 1.4683e-07\n",
            "Epoch 15/100\n",
            "\u001b[1m48/51\u001b[0m \u001b[32m━━━━━━━━━━━━━━━━━━\u001b[0m\u001b[37m━━\u001b[0m \u001b[1m0s\u001b[0m 10ms/step - accuracy: 1.0000 - auc: 1.0000 - loss: 4.4805e-06\n",
            "Epoch 15: val_auc did not improve from 0.00000\n",
            "\u001b[1m51/51\u001b[0m \u001b[32m━━━━━━━━━━━━━━━━━━━━\u001b[0m\u001b[37m\u001b[0m \u001b[1m1s\u001b[0m 12ms/step - accuracy: 1.0000 - auc: 1.0000 - loss: 4.6183e-06 - val_accuracy: 1.0000 - val_auc: 0.0000e+00 - val_loss: 9.8495e-08\n",
            "Epoch 16/100\n",
            "\u001b[1m48/51\u001b[0m \u001b[32m━━━━━━━━━━━━━━━━━━\u001b[0m\u001b[37m━━\u001b[0m \u001b[1m0s\u001b[0m 10ms/step - accuracy: 1.0000 - auc: 1.0000 - loss: 3.8139e-06\n",
            "Epoch 16: val_auc did not improve from 0.00000\n",
            "\u001b[1m51/51\u001b[0m \u001b[32m━━━━━━━━━━━━━━━━━━━━\u001b[0m\u001b[37m\u001b[0m \u001b[1m1s\u001b[0m 12ms/step - accuracy: 1.0000 - auc: 1.0000 - loss: 3.9571e-06 - val_accuracy: 1.0000 - val_auc: 0.0000e+00 - val_loss: 9.8488e-08\n"
          ]
        },
        {
          "output_type": "display_data",
          "data": {
            "text/plain": [
              "<Figure size 640x480 with 1 Axes>"
            ],
            "image/png": "[encoded data removed]"
          },
          "metadata": {}
        }
      ]
    },
    {
      "cell_type": "markdown",
      "source": [
        "9 . Carregando o modelo"
      ],
      "metadata": {
        "id": "o1LpoXDixyjJ"
      }
    },
    {
      "cell_type": "code",
      "source": [
        "from tensorflow.keras.models import load_model\n",
        "import pandas as pd\n",
        "import numpy as np\n",
        "\n",
        "# 1. Carregar o modelo salvo\n",
        "folder = \"/content/drive/MyDrive/Colab Notebooks/vibration_motor_dataset/\"\n",
        "best_model = load_model('best_model.h5')\n",
        "\n",
        "\n",
        "data_tests = ['healthy.csv', '0.7inner-200watt.csv', '0.9inner-200watt.csv', '1.1inner-200watt.csv', '1.3inner-200watt.csv', '1.5inner-200watt.csv', '1.7inner-200watt.csv']\n",
        "\n",
        "for data_test in data_tests:\n",
        "  # 2. Carregar os dados de healthy.csv\n",
        "  # motor_data = pd.read_csv('healthy.csv', skipinitialspace=True)\n",
        "  motor_data = pd.read_csv(folder + data_test, skipinitialspace=True)\n",
        "\n",
        "  # 3. Padronizar nomes das colunas (se necessário)\n",
        "  motor_data.columns = motor_data.columns.str.strip().str.replace('-', '').str.lower()\n",
        "\n",
        "  # 4. Aplicar a mesma engenharia de features usada no treinamento\n",
        "  def calculate_phase_features(df):\n",
        "      df['current_avg'] = df[['currenta', 'currentb', 'currentc']].mean(axis=1)\n",
        "      df['imbalance'] = df[['currenta', 'currentb', 'currentc']].std(axis=1)\n",
        "      df['max_phase'] = df[['currenta', 'currentb', 'currentc']].max(axis=1)\n",
        "      df['min_phase'] = df[['currenta', 'currentb', 'currentc']].min(axis=1)\n",
        "      df['thd'] = (df[['currenta', 'currentb', 'currentc']].sub(df['current_avg'], axis=0)**2).mean(axis=1)**0.5 / df['current_avg']\n",
        "      return df\n",
        "\n",
        "  motor_data = calculate_phase_features(motor_data)\n",
        "\n",
        "  # 5. Criar as janelas temporais (mesmo WINDOW_SIZE e STEP_SIZE usados no treinamento)\n",
        "  WINDOW_SIZE = 60  # Exemplo: 60 amostras por janela\n",
        "  STEP_SIZE = 30     # Exemplo: janela deslizante com 50% de sobreposição\n",
        "\n",
        "  def create_sequences(df, window_size, step):\n",
        "      sequences = []\n",
        "      for i in range(0, len(df) - window_size + 1, step):\n",
        "          window = df.iloc[i:i+window_size]\n",
        "          seq_data = window[['currenta', 'currentb', 'currentc',\n",
        "                          'current_avg', 'imbalance', 'max_phase',\n",
        "                          'min_phase', 'thd']].values\n",
        "          sequences.append(seq_data)\n",
        "      return np.array(sequences)\n",
        "\n",
        "  X_motor = create_sequences(motor_data, WINDOW_SIZE, STEP_SIZE)\n",
        "\n",
        "  # 6. Avaliar o modelo com os dados de healthy.csv\n",
        "  # Como são dados saudáveis, esperamos previsões próximas de 0\n",
        "  predictions = best_model.predict(X_motor)\n",
        "  mean_prediction = np.mean(predictions)\n",
        "  std_prediction = np.std(predictions)\n",
        "\n",
        "  print(f\"Resultados para %s:\"%data_test)\n",
        "  print(f\"Média das previsões: {mean_prediction:.4f}\")\n",
        "  print(f\"Desvio padrão das previsões: {std_prediction:.4f}\")\n",
        "\n",
        "  # 7. Verificar anomalias (opcional)\n",
        "  threshold = 0.5  # Defina um limiar para detecção de anomalias\n",
        "  anomalies = np.sum(predictions > threshold)\n",
        "  print(f\"Número de janelas classificadas como anomalias: {anomalies} ({(anomalies/len(predictions))*100:.2f}%)\\n\\n\")"
      ],
      "metadata": {
        "colab": {
          "base_uri": "https://localhost:8080/"
        },
        "id": "aZFyMotKx0-j",
        "outputId": "5d76f85e-a6c9-4ec1-a5b5-29c8d7f793d5"
      },
      "execution_count": 44,
      "outputs": [
        {
          "output_type": "stream",
          "name": "stderr",
          "text": [
            "WARNING:absl:Compiled the loaded model, but the compiled metrics have yet to be built. `model.compile_metrics` will be empty until you train or evaluate the model.\n"
          ]
        },
        {
          "output_type": "stream",
          "name": "stdout",
          "text": [
            "\u001b[1m122/122\u001b[0m \u001b[32m━━━━━━━━━━━━━━━━━━━━\u001b[0m\u001b[37m\u001b[0m \u001b[1m1s\u001b[0m 8ms/step\n",
            "Resultados para healthy.csv:\n",
            "Média das previsões: 0.0355\n",
            "Desvio padrão das previsões: 0.0144\n",
            "Número de janelas classificadas como anomalias: 0 (0.00%)\n",
            "\n",
            "\n",
            "\u001b[1m131/131\u001b[0m \u001b[32m━━━━━━━━━━━━━━━━━━━━\u001b[0m\u001b[37m\u001b[0m \u001b[1m0s\u001b[0m 3ms/step\n",
            "Resultados para 0.7inner-200watt.csv:\n",
            "Média das previsões: 0.9895\n",
            "Desvio padrão das previsões: 0.0040\n",
            "Número de janelas classificadas como anomalias: 4177 (100.00%)\n",
            "\n",
            "\n",
            "\u001b[1m143/143\u001b[0m \u001b[32m━━━━━━━━━━━━━━━━━━━━\u001b[0m\u001b[37m\u001b[0m \u001b[1m0s\u001b[0m 3ms/step\n",
            "Resultados para 0.9inner-200watt.csv:\n",
            "Média das previsões: 0.9910\n",
            "Desvio padrão das previsões: 0.0029\n",
            "Número de janelas classificadas como anomalias: 4573 (100.00%)\n",
            "\n",
            "\n",
            "\u001b[1m143/143\u001b[0m \u001b[32m━━━━━━━━━━━━━━━━━━━━\u001b[0m\u001b[37m\u001b[0m \u001b[1m0s\u001b[0m 3ms/step\n",
            "Resultados para 1.1inner-200watt.csv:\n",
            "Média das previsões: 0.9903\n",
            "Desvio padrão das previsões: 0.0033\n",
            "Número de janelas classificadas como anomalias: 4575 (100.00%)\n",
            "\n",
            "\n",
            "\u001b[1m139/139\u001b[0m \u001b[32m━━━━━━━━━━━━━━━━━━━━\u001b[0m\u001b[37m\u001b[0m \u001b[1m0s\u001b[0m 3ms/step\n",
            "Resultados para 1.3inner-200watt.csv:\n",
            "Média das previsões: 0.9912\n",
            "Desvio padrão das previsões: 0.0030\n",
            "Número de janelas classificadas como anomalias: 4438 (100.00%)\n",
            "\n",
            "\n",
            "\u001b[1m152/152\u001b[0m \u001b[32m━━━━━━━━━━━━━━━━━━━━\u001b[0m\u001b[37m\u001b[0m \u001b[1m0s\u001b[0m 3ms/step\n",
            "Resultados para 1.5inner-200watt.csv:\n",
            "Média das previsões: 0.9912\n",
            "Desvio padrão das previsões: 0.0027\n",
            "Número de janelas classificadas como anomalias: 4859 (100.00%)\n",
            "\n",
            "\n",
            "\u001b[1m144/144\u001b[0m \u001b[32m━━━━━━━━━━━━━━━━━━━━\u001b[0m\u001b[37m\u001b[0m \u001b[1m0s\u001b[0m 3ms/step\n",
            "Resultados para 1.7inner-200watt.csv:\n",
            "Média das previsões: 0.9892\n",
            "Desvio padrão das previsões: 0.0389\n",
            "Número de janelas classificadas como anomalias: 4585 (99.85%)\n",
            "\n",
            "\n"
          ]
        }
      ]
    }
  ]
}